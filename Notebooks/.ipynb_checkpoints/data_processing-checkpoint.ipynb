{
 "cells": [
  {
   "cell_type": "code",
   "execution_count": 69,
   "id": "38213051-786a-4053-a0e5-fdc4101bec81",
   "metadata": {},
   "outputs": [
    {
     "name": "stdout",
     "output_type": "stream",
     "text": [
      "              Date Location  MinTemp  MaxTemp  Rainfall  Evaporation  \\\n",
      "0       2008-12-01   Albury     13.4     22.9       0.6          NaN   \n",
      "1       2008-12-02   Albury      7.4     25.1       0.0          NaN   \n",
      "2       2008-12-03   Albury     12.9     25.7       0.0          NaN   \n",
      "3       2008-12-04   Albury      9.2     28.0       0.0          NaN   \n",
      "4       2008-12-05   Albury     17.5     32.3       1.0          NaN   \n",
      "...            ...      ...      ...      ...       ...          ...   \n",
      "145455  2017-06-21    Uluru      2.8     23.4       0.0          NaN   \n",
      "145456  2017-06-22    Uluru      3.6     25.3       0.0          NaN   \n",
      "145457  2017-06-23    Uluru      5.4     26.9       0.0          NaN   \n",
      "145458  2017-06-24    Uluru      7.8     27.0       0.0          NaN   \n",
      "145459  2017-06-25    Uluru     14.9      NaN       0.0          NaN   \n",
      "\n",
      "        Sunshine WindGustDir  WindGustSpeed WindDir9am  ... Humidity9am  \\\n",
      "0            NaN           W           44.0          W  ...        71.0   \n",
      "1            NaN         WNW           44.0        NNW  ...        44.0   \n",
      "2            NaN         WSW           46.0          W  ...        38.0   \n",
      "3            NaN          NE           24.0         SE  ...        45.0   \n",
      "4            NaN           W           41.0        ENE  ...        82.0   \n",
      "...          ...         ...            ...        ...  ...         ...   \n",
      "145455       NaN           E           31.0         SE  ...        51.0   \n",
      "145456       NaN         NNW           22.0         SE  ...        56.0   \n",
      "145457       NaN           N           37.0         SE  ...        53.0   \n",
      "145458       NaN          SE           28.0        SSE  ...        51.0   \n",
      "145459       NaN         NaN            NaN        ESE  ...        62.0   \n",
      "\n",
      "        Humidity3pm  Pressure9am  Pressure3pm  Cloud9am  Cloud3pm  Temp9am  \\\n",
      "0              22.0       1007.7       1007.1       8.0       NaN     16.9   \n",
      "1              25.0       1010.6       1007.8       NaN       NaN     17.2   \n",
      "2              30.0       1007.6       1008.7       NaN       2.0     21.0   \n",
      "3              16.0       1017.6       1012.8       NaN       NaN     18.1   \n",
      "4              33.0       1010.8       1006.0       7.0       8.0     17.8   \n",
      "...             ...          ...          ...       ...       ...      ...   \n",
      "145455         24.0       1024.6       1020.3       NaN       NaN     10.1   \n",
      "145456         21.0       1023.5       1019.1       NaN       NaN     10.9   \n",
      "145457         24.0       1021.0       1016.8       NaN       NaN     12.5   \n",
      "145458         24.0       1019.4       1016.5       3.0       2.0     15.1   \n",
      "145459         36.0       1020.2       1017.9       8.0       8.0     15.0   \n",
      "\n",
      "        Temp3pm  RainToday  RainTomorrow  \n",
      "0          21.8         No            No  \n",
      "1          24.3         No            No  \n",
      "2          23.2         No            No  \n",
      "3          26.5         No            No  \n",
      "4          29.7         No            No  \n",
      "...         ...        ...           ...  \n",
      "145455     22.4         No            No  \n",
      "145456     24.5         No            No  \n",
      "145457     26.1         No            No  \n",
      "145458     26.0         No            No  \n",
      "145459     20.9         No           NaN  \n",
      "\n",
      "[145460 rows x 23 columns]\n",
      "<class 'pandas.core.frame.DataFrame'>\n",
      "RangeIndex: 145460 entries, 0 to 145459\n",
      "Data columns (total 23 columns):\n",
      " #   Column         Non-Null Count   Dtype  \n",
      "---  ------         --------------   -----  \n",
      " 0   Date           145460 non-null  object \n",
      " 1   Location       145460 non-null  object \n",
      " 2   MinTemp        143975 non-null  float64\n",
      " 3   MaxTemp        144199 non-null  float64\n",
      " 4   Rainfall       142199 non-null  float64\n",
      " 5   Evaporation    82670 non-null   float64\n",
      " 6   Sunshine       75625 non-null   float64\n",
      " 7   WindGustDir    135134 non-null  object \n",
      " 8   WindGustSpeed  135197 non-null  float64\n",
      " 9   WindDir9am     134894 non-null  object \n",
      " 10  WindDir3pm     141232 non-null  object \n",
      " 11  WindSpeed9am   143693 non-null  float64\n",
      " 12  WindSpeed3pm   142398 non-null  float64\n",
      " 13  Humidity9am    142806 non-null  float64\n",
      " 14  Humidity3pm    140953 non-null  float64\n",
      " 15  Pressure9am    130395 non-null  float64\n",
      " 16  Pressure3pm    130432 non-null  float64\n",
      " 17  Cloud9am       89572 non-null   float64\n",
      " 18  Cloud3pm       86102 non-null   float64\n",
      " 19  Temp9am        143693 non-null  float64\n",
      " 20  Temp3pm        141851 non-null  float64\n",
      " 21  RainToday      142199 non-null  object \n",
      " 22  RainTomorrow   142193 non-null  object \n",
      "dtypes: float64(16), object(7)\n",
      "memory usage: 25.5+ MB\n"
     ]
    }
   ],
   "source": [
    "import pandas as pd\n",
    "\n",
    "df = pd.read_csv(\"DataSets/weatherAUS.csv\")\n",
    "print(df)\n",
    "df.info()"
   ]
  },
  {
   "cell_type": "markdown",
   "id": "6b18e356-b41c-4da1-be28-c390226ff3ac",
   "metadata": {},
   "source": [
    "## Selecting features\n",
    "Keep only features which might affect the chance of rain tomorrow.\n",
    "\n",
    "According to the [NOAA](https://www.noaa.gov/education/resource-collections/weather-atmosphere/weather-observations) the main factors affecting precipitation are temperature, humidity, precipitation, air pressure, wind speed, and wind direction. Excluding precipitation, we select thes values at 3pm as they are as they are the most likely to affect the weather the next day based on their temporal proximity. "
   ]
  },
  {
   "cell_type": "code",
   "execution_count": 70,
   "id": "d458d8f4-591e-4738-a01d-a8bf8a69bdbc",
   "metadata": {},
   "outputs": [
    {
     "name": "stdout",
     "output_type": "stream",
     "text": [
      "<class 'pandas.core.frame.DataFrame'>\n",
      "Int64Index: 125083 entries, 0 to 145458\n",
      "Data columns (total 6 columns):\n",
      " #   Column        Non-Null Count   Dtype  \n",
      "---  ------        --------------   -----  \n",
      " 0   Pressure3pm   125083 non-null  float64\n",
      " 1   Temp3pm       125083 non-null  float64\n",
      " 2   WindSpeed3pm  125083 non-null  float64\n",
      " 3   Humidity3pm   125083 non-null  float64\n",
      " 4   WindDir3pm    125083 non-null  object \n",
      " 5   RainTomorrow  125083 non-null  object \n",
      "dtypes: float64(4), object(2)\n",
      "memory usage: 6.7+ MB\n"
     ]
    }
   ],
   "source": [
    "df_copy = df[[\"Pressure3pm\", \"Temp3pm\", \"WindSpeed3pm\", \"Humidity3pm\", \"WindDir3pm\", \"RainTomorrow\"]]\n",
    "df_copy = df_copy.dropna(axis='index', how='any', inplace = False)\n",
    "df_copy.info()"
   ]
  },
  {
   "cell_type": "markdown",
   "id": "db914de8-fbb1-4c42-b716-c803033d108f",
   "metadata": {},
   "source": [
    "## Remapping wind direction\n",
    "Wind direction is converted from distinct string values to distinct numeric values to be used for model training."
   ]
  },
  {
   "cell_type": "code",
   "execution_count": 71,
   "id": "0f42df3c-29e8-48b9-84b2-7ebe4fba88b3",
   "metadata": {},
   "outputs": [
    {
     "name": "stdout",
     "output_type": "stream",
     "text": [
      "{'WNW': 0, 'WSW': 1, 'E': 2, 'NW': 3, 'W': 4, 'SSE': 5, 'ESE': 6, 'ENE': 7, 'NNW': 8, 'SSW': 9, 'SW': 10, 'SE': 11, 'N': 12, 'S': 13, 'NNE': 14, 'NE': 15}\n"
     ]
    }
   ],
   "source": [
    "dir_map = dict.fromkeys(df_copy.WindDir3pm)\n",
    "\n",
    "ucounter = 0\n",
    "for x in dir_map:\n",
    "    dir_map[x] = ucounter\n",
    "    ucounter = ucounter + 1\n",
    "\n",
    "print(dir_map)\n",
    "\n",
    "df_copy[\"WindDir3pm\"] = df_copy[\"WindDir3pm\"].map(dir_map)"
   ]
  },
  {
   "cell_type": "markdown",
   "id": "a492c490-079b-4285-9b8e-050837973f6c",
   "metadata": {},
   "source": [
    "## Remapping rain tomorrow\n",
    "Rain tomorrow is converted from distinct string values to distinct numeric values to be used for model training."
   ]
  },
  {
   "cell_type": "code",
   "execution_count": 72,
   "id": "d0ca11a4-d947-4c27-bd57-759a2afa2ff9",
   "metadata": {},
   "outputs": [
    {
     "name": "stdout",
     "output_type": "stream",
     "text": [
      "{'No': 0, 'Yes': 1}\n"
     ]
    }
   ],
   "source": [
    "tomr_map = dict.fromkeys(df_copy.RainTomorrow)\n",
    "\n",
    "ucounter = 0\n",
    "for x in tomr_map:\n",
    "    tomr_map[x] = ucounter\n",
    "    ucounter = ucounter + 1\n",
    "\n",
    "print(tomr_map)\n",
    "\n",
    "df_copy[\"RainTomorrow\"] = df_copy[\"RainTomorrow\"].map(tomr_map)"
   ]
  },
  {
   "cell_type": "code",
   "execution_count": 73,
   "id": "d51a5448-92ad-4398-bc72-e24a9f5e368d",
   "metadata": {},
   "outputs": [
    {
     "name": "stdout",
     "output_type": "stream",
     "text": [
      "<class 'pandas.core.frame.DataFrame'>\n",
      "Int64Index: 125083 entries, 0 to 145458\n",
      "Data columns (total 6 columns):\n",
      " #   Column        Non-Null Count   Dtype  \n",
      "---  ------        --------------   -----  \n",
      " 0   Pressure3pm   125083 non-null  float64\n",
      " 1   Temp3pm       125083 non-null  float64\n",
      " 2   WindSpeed3pm  125083 non-null  float64\n",
      " 3   Humidity3pm   125083 non-null  float64\n",
      " 4   WindDir3pm    125083 non-null  int64  \n",
      " 5   RainTomorrow  125083 non-null  int64  \n",
      "dtypes: float64(4), int64(2)\n",
      "memory usage: 6.7 MB\n"
     ]
    }
   ],
   "source": [
    "df_copy.info()"
   ]
  },
  {
   "cell_type": "markdown",
   "id": "7389ac9c-2bd4-47bd-a4b1-5aeac3ece9e5",
   "metadata": {},
   "source": [
    "## Data Visualization\n",
    "We visualize the distribution of the data in the dataframe"
   ]
  },
  {
   "cell_type": "code",
   "execution_count": 74,
   "id": "8126a4ee-2ed6-4673-88f8-3eeaba86204e",
   "metadata": {},
   "outputs": [
    {
     "data": {
      "image/png": "[encoded data removed]",
      "text/plain": [
       "<Figure size 720x864 with 6 Axes>"
      ]
     },
     "metadata": {
      "needs_background": "light"
     },
     "output_type": "display_data"
    }
   ],
   "source": [
    "import matplotlib.pyplot as plt\n",
    "\n",
    "df_copy.hist(figsize=(10,12))\n",
    "plt.show()"
   ]
  },
  {
   "cell_type": "markdown",
   "id": "7df27d4e-6de6-4f2f-b274-cfeb1a600e05",
   "metadata": {},
   "source": [
    "## Shrinking our data\n",
    "The resulting dataframe after processing is too large for this projects requirement (needs to be less than 1 mb to be posted on github). In order to solve this we use a randomo shuffled indices to select at random which row we will use in a reduced dataframe."
   ]
  },
  {
   "cell_type": "code",
   "execution_count": 75,
   "id": "1c6c69d3-add4-4951-99a0-2fe240645f52",
   "metadata": {},
   "outputs": [
    {
     "name": "stdout",
     "output_type": "stream",
     "text": [
      "<class 'pandas.core.frame.DataFrame'>\n",
      "Int64Index: 18000 entries, 4351 to 3815\n",
      "Data columns (total 6 columns):\n",
      " #   Column        Non-Null Count  Dtype  \n",
      "---  ------        --------------  -----  \n",
      " 0   Pressure3pm   18000 non-null  float64\n",
      " 1   Temp3pm       18000 non-null  float64\n",
      " 2   WindSpeed3pm  18000 non-null  float64\n",
      " 3   Humidity3pm   18000 non-null  float64\n",
      " 4   WindDir3pm    18000 non-null  int64  \n",
      " 5   RainTomorrow  18000 non-null  int64  \n",
      "dtypes: float64(4), int64(2)\n",
      "memory usage: 984.4 KB\n"
     ]
    }
   ],
   "source": [
    "import numpy as np\n",
    "\n",
    "data_count = 18000 # calculated size to be under 1 megabyte\n",
    "\n",
    "np.random.seed(540)\n",
    "shuffled_indices = np.random.permutation(data_count)\n",
    "\n",
    "reduced_df = df_copy.iloc[shuffled_indices]\n",
    "\n",
    "reduced_df.info()"
   ]
  },
  {
   "cell_type": "markdown",
   "id": "0bb52f41-f3e1-419e-93cf-bc6f5cca6d42",
   "metadata": {},
   "source": [
    "## Save out recuded dataframe\n",
    "Save the reduced dataframe for exploration."
   ]
  },
  {
   "cell_type": "code",
   "execution_count": 76,
   "id": "8e389dc1-861f-4be8-adf2-5b8a828aacc7",
   "metadata": {},
   "outputs": [],
   "source": [
    "reduced_df.to_csv(\"DataSets/weatherAUSProcessed.csv\", index=False)"
   ]
  }
 ],
 "metadata": {
  "kernelspec": {
   "display_name": "Python 3 (ipykernel)",
   "language": "python",
   "name": "python3"
  },
  "language_info": {
   "codemirror_mode": {
    "name": "ipython",
    "version": 3
   },
   "file_extension": ".py",
   "mimetype": "text/x-python",
   "name": "python",
   "nbconvert_exporter": "python",
   "pygments_lexer": "ipython3",
   "version": "3.10.2"
  }
 },
 "nbformat": 4,
 "nbformat_minor": 5
}
