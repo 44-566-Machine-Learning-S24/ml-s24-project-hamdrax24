{
 "cells": [
  {
   "cell_type": "markdown",
   "id": "159ce8f4-fe15-453a-9392-65c64d9400ec",
   "metadata": {},
   "source": [
    "# SVM fitting"
   ]
  },
  {
   "cell_type": "code",
   "execution_count": 15,
   "id": "8f740bf9-a484-4411-b02a-fdea902b2689",
   "metadata": {},
   "outputs": [],
   "source": [
    "import pandas as pd\n",
    "from sklearn.model_selection import train_test_split\n",
    "\n",
    "df = pd.read_csv(\"DataSets/weatherAUSProcessed.csv\")\n",
    "\n",
    "train_df, test_df = train_test_split(df, test_size=0.25, random_state=452)"
   ]
  },
  {
   "cell_type": "code",
   "execution_count": 16,
   "id": "504d259d-7516-42e1-8384-159cfaec7fba",
   "metadata": {},
   "outputs": [
    {
     "data": {
      "text/plain": [
       "SVC()"
      ]
     },
     "execution_count": 16,
     "metadata": {},
     "output_type": "execute_result"
    }
   ],
   "source": [
    "from sklearn.svm import SVC\n",
    "\n",
    "train_x = train_df[['Pressure3pm', 'Temp3pm', 'WindSpeed3pm', 'Humidity3pm', 'WindDir3pm', 'RainTomorrow']]\n",
    "train_y = train_df['RainTomorrow']\n",
    "\n",
    "svm_classifier = SVC()\n",
    "svm_classifier.fit(X,y)"
   ]
  },
  {
   "cell_type": "markdown",
   "id": "1c0af79e-8a10-495b-a0d3-f0975cd7f6f6",
   "metadata": {},
   "source": [
    "## Test against Training set"
   ]
  },
  {
   "cell_type": "code",
   "execution_count": 17,
   "id": "e6b8b8b1-eab2-43e0-b5a2-1e69bec0133b",
   "metadata": {},
   "outputs": [
    {
     "name": "stdout",
     "output_type": "stream",
     "text": [
      "[[10691     0]\n",
      " [ 2809     0]]\n",
      "Accuracy is  0.7919259259259259\n",
      "Precision is  0.6271466721536351\n",
      "Sensitivity is  0.7919259259259259\n",
      "F1 is  0.6999694162353002\n"
     ]
    },
    {
     "name": "stderr",
     "output_type": "stream",
     "text": [
      "C:\\Users\\S536804\\ds-venv\\lib\\site-packages\\sklearn\\metrics\\_classification.py:1318: UndefinedMetricWarning: Precision is ill-defined and being set to 0.0 in labels with no predicted samples. Use `zero_division` parameter to control this behavior.\n",
      "  _warn_prf(average, modifier, msg_start, len(result))\n"
     ]
    }
   ],
   "source": [
    "from sklearn.metrics import confusion_matrix\n",
    "y_predicted = svm_classifier.predict(train_x)\n",
    "matrix = confusion_matrix(train_y, y_predicted)\n",
    "print(matrix)\n",
    "\n",
    "from sklearn.metrics import accuracy_score, precision_score, recall_score, f1_score\n",
    "\n",
    "print (\"Accuracy is \", accuracy_score(train_y, y_predicted))\n",
    "print (\"Precision is \", precision_score(train_y, y_predicted, average=\"weighted\"))\n",
    "print (\"Sensitivity is \", recall_score(train_y, y_predicted, average=\"weighted\"))\n",
    "print (\"F1 is \", f1_score(train_y, y_predicted, average=\"weighted\"))"
   ]
  },
  {
   "cell_type": "markdown",
   "id": "9adebb1d-f976-484f-9c8f-956d63f8471d",
   "metadata": {},
   "source": [
    "## Test against Test set"
   ]
  },
  {
   "cell_type": "code",
   "execution_count": 20,
   "id": "242f191d-6337-46e7-83d2-2b125eaeb0bb",
   "metadata": {},
   "outputs": [
    {
     "name": "stdout",
     "output_type": "stream",
     "text": [
      "[[3503    0]\n",
      " [ 997    0]]\n",
      "Accuracy is  0.7784444444444445\n",
      "Precision is  0.6059757530864198\n",
      "Sensitivity is  0.7784444444444445\n",
      "F1 is  0.6814671720327099\n"
     ]
    },
    {
     "name": "stderr",
     "output_type": "stream",
     "text": [
      "C:\\Users\\S536804\\ds-venv\\lib\\site-packages\\sklearn\\metrics\\_classification.py:1318: UndefinedMetricWarning: Precision is ill-defined and being set to 0.0 in labels with no predicted samples. Use `zero_division` parameter to control this behavior.\n",
      "  _warn_prf(average, modifier, msg_start, len(result))\n"
     ]
    }
   ],
   "source": [
    "test_x = test_df[['Pressure3pm', 'Temp3pm', 'WindSpeed3pm', 'Humidity3pm', 'WindDir3pm', 'RainTomorrow']]\n",
    "test_y = test_df['RainTomorrow']\n",
    "\n",
    "y_predicted = svm_classifier.predict(test_x)\n",
    "matrix = confusion_matrix(test_y, y_predicted)\n",
    "print(matrix)\n",
    "\n",
    "print (\"Accuracy is \", accuracy_score(test_y, y_predicted))\n",
    "print (\"Precision is \", precision_score(test_y, y_predicted, average=\"weighted\"))\n",
    "print (\"Sensitivity is \", recall_score(test_y, y_predicted, average=\"weighted\"))\n",
    "print (\"F1 is \", f1_score(test_y, y_predicted, average=\"weighted\"))"
   ]
  },
  {
   "cell_type": "code",
   "execution_count": 19,
   "id": "c27908fb-1222-4f59-8d67-b0e387d63866",
   "metadata": {},
   "outputs": [
    {
     "name": "stdout",
     "output_type": "stream",
     "text": [
      "Cross validation accuracies are:  [0.7894444444444444, 0.7980555555555555, 0.785, 0.7691666666666667, 0.8011111111111111]\n",
      "Cross validation f1 scores  are:  [0.6965542102176687, 0.7084237945654599, 0.6904481792717087, 0.6688090752080389, 0.7126478853931044]\n"
     ]
    }
   ],
   "source": [
    "from sklearn.model_selection import KFold\n",
    "\n",
    "X = df[['Pressure3pm', 'Temp3pm', 'WindSpeed3pm', 'Humidity3pm', 'WindDir3pm', 'RainTomorrow']]\n",
    "y = df['RainTomorrow']\n",
    "\n",
    "validation_accuracy = []\n",
    "validation_f1 =[]\n",
    "\n",
    "fold_and_validate = KFold(n_splits=5, shuffle=True, random_state=145)\n",
    "for train_set_indices, validation_set_indices in fold_and_validate.split(X):\n",
    "    cv_train_set = X.iloc[train_set_indices]\n",
    "    cv_train_target = y.iloc[train_set_indices]\n",
    "    \n",
    "    cv_svc = SVC()\n",
    "    cv_svc.fit(cv_train_set, cv_train_target)\n",
    "    \n",
    "    cv_xvalidation = X.iloc[validation_set_indices]\n",
    "    cv_y_true = y.iloc[validation_set_indices]\n",
    "    cv_y_predicted = cv_svc.predict(cv_xvalidation)\n",
    "    \n",
    "    cv_accuracy_score = accuracy_score(cv_y_true, cv_y_predicted)\n",
    "    cv_f1_score = f1_score(cv_y_true, cv_y_predicted,  average=\"weighted\")\n",
    "    validation_accuracy.append(cv_accuracy_score)\n",
    "    validation_f1.append(cv_f1_score)\n",
    "    \n",
    "print(\"Cross validation accuracies are: \", validation_accuracy)\n",
    "print(\"Cross validation f1 scores  are: \", validation_f1)\n",
    "    "
   ]
  },
  {
   "cell_type": "markdown",
   "id": "6ab5a84d-6575-486b-8f32-8b1547546528",
   "metadata": {},
   "source": [
    "## Result\n",
    "Nothing seems out of the ordinary when using SVM. No signs of over/underfitting."
   ]
  }
 ],
 "metadata": {
  "kernelspec": {
   "display_name": "Python 3 (ipykernel)",
   "language": "python",
   "name": "python3"
  },
  "language_info": {
   "codemirror_mode": {
    "name": "ipython",
    "version": 3
   },
   "file_extension": ".py",
   "mimetype": "text/x-python",
   "name": "python",
   "nbconvert_exporter": "python",
   "pygments_lexer": "ipython3",
   "version": "3.10.2"
  }
 },
 "nbformat": 4,
 "nbformat_minor": 5
}
